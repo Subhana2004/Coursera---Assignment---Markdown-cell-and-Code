{
  "metadata": {
    "kernelspec": {
      "name": "python",
      "display_name": "Python (Pyodide)",
      "language": "python"
    },
    "language_info": {
      "codemirror_mode": {
        "name": "python",
        "version": 3
      },
      "file_extension": ".py",
      "mimetype": "text/x-python",
      "name": "python",
      "nbconvert_exporter": "python",
      "pygments_lexer": "ipython3",
      "version": "3.8"
    }
  },
  "nbformat_minor": 4,
  "nbformat": 4,
  "cells": [
    {
      "cell_type": "markdown",
      "source": "### Coursera Assignment - Markdown cell and Code",
      "metadata": {}
    },
    {
      "cell_type": "markdown",
      "source": "Hello , Today we are going to perform some basic activities which perform key role in further activities , we are going to perform some basic activities related to the Markdown cell and code ",
      "metadata": {}
    },
    {
      "cell_type": "markdown",
      "source": "The languages used in Data Science are \n- Python  \n- R  \n- Scala  \n- JavaScript  \n",
      "metadata": {}
    },
    {
      "cell_type": "markdown",
      "source": "Data Science relies on various powerful libraries that assist in data analysis, visualization, and machine learning. Here are some essential libraries used in Data Science:\n\n1. NumPy – For numerical computing and handling arrays efficiently.  \n2. Pandas – Provides data structures like DataFrames for data manipulation and analysis.  \n3. Matplotlib – Used for creating static, animated, and interactive visualizations.  \n4. Scikit-learn – A machine learning library for classification, regression, and clustering.  \n5. TensorFlow – An open-source library for deep learning and AI applications.  \n",
      "metadata": {}
    },
    {
      "cell_type": "markdown",
      "source": "### Popular Data Science Tools\n\n| Tool            | Purpose                                      |\n|----------------|----------------------------------------------|\n| Jupyter Notebook | Interactive computing and visualization    |\n| TensorFlow      | Machine learning and deep learning         |\n| Scikit-learn   | Machine learning algorithms                 |\n| Pandas         | Data manipulation and analysis              |\n| Matplotlib     | Data visualization                          |\n| NumPy          | Numerical computing                         |\n| Tableau        | Data visualization and business intelligence |\n| Hadoop        | Big data processing                          |\n",
      "metadata": {}
    },
    {
      "cell_type": "markdown",
      "source": "### Arithmetic Expressions in Mathematics  \n\nArithmetic expressions consist of numbers and mathematical operators to perform calculations. Below are some common examples of arithmetic expressions:  \n\n- **Addition:** \\( 5 + 3 = 8 \\)  \n- **Subtraction:** \\( 10 - 4 = 6 \\)  \n- **Multiplication:** \\( 6 \\times 7 = 42 \\)  \n- **Division:** \\( 20 \\div 5 = 4 \\)  \n- **Exponentiation:** \\( 2^3 = 8 \\)  \n- **Combination of Operations:** \\( (5 + 3) \\times 2 = 16 \\)  \n",
      "metadata": {}
    },
    {
      "cell_type": "code",
      "source": "#ADDITION AND MULTIPLICATION\na=5\nb=6\nADD=a+b\nMUL=a*b\n\nprint(\"Addition is \", ADD)\nprint(\"Multiplication  is \", MUL)\n",
      "metadata": {
        "trusted": true
      },
      "outputs": [
        {
          "name": "stdout",
          "text": "Addition is  11\nMultiplication  is  30\n",
          "output_type": "stream"
        }
      ],
      "execution_count": 8
    },
    {
      "cell_type": "code",
      "source": "# Convert minutes to hours\nminutes = 150  # You can change this value\nhours = minutes / 60  # 1 hour = 60 minutes\n\n# Display result\nprint(f\"{minutes} minutes is equal to {hours} hours.\")\n",
      "metadata": {
        "trusted": true
      },
      "outputs": [
        {
          "name": "stdout",
          "text": "150 minutes is equal to 2.5 hours.\n",
          "output_type": "stream"
        }
      ],
      "execution_count": 12
    },
    {
      "cell_type": "markdown",
      "source": "### Key Concepts in Data Science  \n\nData Science involves various techniques and tools to analyze and interpret data. Below are some key concepts in Data Science:  \n\n- **Data Wrangling** – Cleaning and transforming raw data into a usable format.  \n- **Exploratory Data Analysis (EDA)** – Understanding data through visualizations and statistics.  \n- **Machine Learning** – Building models to make predictions based on data.  \n- **Data Visualization** – Representing data graphically using charts and graphs.  \n- **Big Data Processing** – Handling large datasets using tools like Hadoop and Spark.  \n",
      "metadata": {}
    },
    {
      "cell_type": "markdown",
      "source": "### Author  \n\n**Syeda Subhana**  \nData Science Enthusiast  \n",
      "metadata": {}
    }
  ]
}